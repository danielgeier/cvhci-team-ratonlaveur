{
 "cells": [
  {
   "cell_type": "markdown",
   "metadata": {},
   "source": [
    "# CVHCI Problem 1: Skin Deetection\n",
    "The implementation is based on \"A skin detection approach based on the Dempster–Shafer theory of evidence\"\n",
    "(see http://www.sciencedirect.com/science/article/pii/S0888613X12000047)"
   ]
  },
  {
   "cell_type": "code",
   "execution_count": 526,
   "metadata": {
    "collapsed": false
   },
   "outputs": [],
   "source": [
    "%matplotlib inline\n",
    "\n",
    "from __future__ import print_function\n",
    "import glob\n",
    "import itertools\n",
    "import os\n",
    "\n",
    "import cv2\n",
    "import matplotlib.pyplot as plt\n",
    "import numpy as np\n",
    "import seaborn as sns\n",
    "from sklearn import cross_validation\n",
    "from sklearn.utils.extmath import cartesian\n",
    "\n",
    "\n",
    "sns.set_style('dark')\n",
    "sns.set_context('notebook')\n",
    "\n",
    "ESCAPE_KEYCODE = 27\n",
    "DATA_FOLDER = os.path.join(os.getcwd(), 'data')\n",
    "\n",
    "\n",
    "def adjust_intensity(img, c=50):\n",
    "    \"\"\"Adjust the intensity dynamically. This is supposed to help with bad lightning conditions.\"\"\"\n",
    "    hsv = cv2.cvtColor(img, cv2.COLOR_BGR2HSV)\n",
    "    v = hsv[..., 2]\n",
    "\n",
    "    # divide by zero if v == 0\n",
    "    with np.errstate(divide='ignore', invalid='ignore'):\n",
    "        denominator = c * np.log(v)\n",
    "        intensity = 2 / (1 + np.exp((-2 * v) / (denominator))) - 1\n",
    "    intensity[v == 0] = 0\n",
    "    intensity *= 255\n",
    "    \n",
    "    hsv[..., 2] = np.round(intensity)\n",
    "    \n",
    "    return cv2.cvtColor(hsv, cv2.COLOR_HSV2BGR)"
   ]
  },
  {
   "cell_type": "code",
   "execution_count": 170,
   "metadata": {
    "collapsed": true
   },
   "outputs": [],
   "source": [
    "# read ground truth\n",
    "# n.b. shape is same as images (480, 640, 3) uint8, NOT boolean\n",
    "mask_files = glob.glob(DATA_FOLDER + '/mask-*')\n",
    "masks = np.zeros((len(mask_files)), np.ndarray)\n",
    "for i, f in enumerate(mask_files):\n",
    "    masks[i] = cv2.imread(f)\n",
    "    if masks[i] is None:\n",
    "        print('Could not read', f)\n",
    "\n",
    "# read images\n",
    "data_files = [f.replace('mask-', '') for f in mask_files]\n",
    "imgs = np.zeros((len(data_files)), np.ndarray)\n",
    "for i, f in enumerate(data_files):\n",
    "    img = cv2.imread(f)\n",
    "    if img is None:\n",
    "        print('Could not read', f)\n",
    "    else:\n",
    "        imgs[i] = img #adjust_intensity(img)"
   ]
  },
  {
   "cell_type": "code",
   "execution_count": 3,
   "metadata": {
    "collapsed": true
   },
   "outputs": [],
   "source": [
    "# Sources of Interest for (non-generalized) DSSD\n",
    "sois = [[lambda r, g, b: r > 140, 0.364339536, 0.524533342],\n",
    "              [lambda r, g, b: (75 < g) & (g < 193), 0.147315460, 0.430099211],\n",
    "              [lambda r, g, b: (43 < b) & (b < 161), 0.222264545, 0.440255872],\n",
    "              [lambda r, g, b: (28 < np.abs(r - g)) & (np.abs(r - g) < 130), 0.546243640, 0.675261991],\n",
    "              [lambda r, g, b: (45 < np.abs(r - b)) & (np.abs(r - b) < 187), 0.496808781, 0.673853774],\n",
    "              [lambda r, g, b: (r > g) & (r > b), 0.387888000, 0.968090001]]\n",
    "\n",
    "# SoIs for little training data\n",
    "sois = [\n",
    "    [lambda r, g, b: r > 99, 0.178123328, 0.3284074864],\n",
    "    [lambda r, g, b: (42 < g) & (g < 181), 0.048259981, 0.0868313786],\n",
    "    [lambda r, g, b: (25 < b) & (b < 150), 0.066580714, 0.1355648535],\n",
    "    [lambda r, g, b: (28 < np.abs(r - g)) & (np.abs(r - g) < 83), 0.412317699, 0.6012579511],\n",
    "    [lambda r, g, b: (35 < np.abs(r - b)) & (np.abs(r - b) < 136), 0.574493217, 0.6356666317],\n",
    "    [lambda r, g, b: (r > g) & (r > b), 0.456460261, 0.8410131201]\n",
    "]\n",
    "\n",
    "def classify(mat):\n",
    "    r, g, b = cv2.split(mat)\n",
    "    skin   = np.zeros((mat.shape[0], mat.shape[1], len(sois)))\n",
    "    noskin = np.zeros((mat.shape[0], mat.shape[1], len(sois)))\n",
    "    theta  = np.zeros((mat.shape[0], mat.shape[1], len(sois)))\n",
    "    \n",
    "    # Calculate mass values for all pixels for all SoIs\n",
    "    for i, soi in enumerate(sois):\n",
    "        mask = soi[0](r, g, b)\n",
    "        skin[..., i][mask == True] += soi[1]\n",
    "        noskin[..., i][mask == False] += soi[2]\n",
    "        theta[..., i][mask == True] += 1 - soi[1]\n",
    "        theta[..., i][mask == False] += 1 - soi[2]\n",
    "    \n",
    "    m_skin = np.zeros(mat.shape[0:2])\n",
    "    m_noskin = np.zeros(mat.shape[0:2])\n",
    "    \n",
    "    combs = set(itertools.permutations([True, False] * len(sois), len(sois)))\n",
    "    # discard \"all thetas\" scenario\n",
    "    combs.discard(tuple([True] * len(sois)))\n",
    "    \n",
    "    for comb in combs:\n",
    "        skinval = 1\n",
    "        noskinval = 1\n",
    "        for i, is_theta  in enumerate(comb):\n",
    "            if is_theta:\n",
    "                skinval *= theta[..., i]\n",
    "                noskinval *= theta[..., i]\n",
    "            else:\n",
    "                skinval *= skin[..., i]\n",
    "                noskinval *= noskin[..., i]\n",
    "        m_skin += skinval\n",
    "        m_noskin += noskinval\n",
    "\n",
    "\n",
    "    # normalize\n",
    "    # K_skin = 0\n",
    "    # K_noskin = 0\n",
    "    # combs = set(itertools.permutations(['skin', 'noskin', 'theta'] * len(sois), len(sois)))\n",
    "    # combs = filter(lambda p: 'skin' in p or 'noskin' in p, combs)\n",
    "    # for comb in combs:\n",
    "    #     normskinval = 1\n",
    "    #     normnoskinval = 1\n",
    "    #     for i, t in enumerate(comb):\n",
    "    #         if t == 'skin':\n",
    "    #             normskinval *= skinnoskin[..., i]\n",
    "    #            normnoskinval *=\n",
    "    #             \n",
    "    #         elif t == 'noskin':\n",
    "    #             \n",
    "    #         elif t == 'theta':\n",
    "\n",
    "    return m_skin * 150 > m_noskin"
   ]
  },
  {
   "cell_type": "code",
   "execution_count": 4,
   "metadata": {
    "collapsed": false
   },
   "outputs": [],
   "source": [
    "for img in imgs:\n",
    "    m = np.copy(img)\n",
    "    m = adjust_intensity(m, 25)\n",
    "    c = classify(m)\n",
    "    # Show classifier output in blue hue\n",
    "    m[..., 0][c] = 255 #b\n",
    "    #m[..., 1][c] = 255 #g\n",
    "    m[..., 2][c] = 0 #r\n",
    "    cv2.imshow('clf', m)\n",
    "    if cv2.waitKey() == ESCAPE_KEYCODE:\n",
    "        cv2.destroyWindow('clf')\n",
    "        break"
   ]
  },
  {
   "cell_type": "code",
   "execution_count": 531,
   "metadata": {
    "collapsed": false,
    "scrolled": false
   },
   "outputs": [
    {
     "data": {
      "text/plain": [
       "<Container object of 256 artists>"
      ]
     },
     "execution_count": 531,
     "metadata": {},
     "output_type": "execute_result"
    },
    {
     "data": {
      "image/png": "[encoded data removed]",
      "text/plain": [
       "<matplotlib.figure.Figure at 0x6afb17b8>"
      ]
     },
     "metadata": {},
     "output_type": "display_data"
    },
    {
     "data": {
      "image/png": "[encoded data removed]",
      "text/plain": [
       "<matplotlib.figure.Figure at 0x6ab93da0>"
      ]
     },
     "metadata": {},
     "output_type": "display_data"
    }
   ],
   "source": [
    "####\n",
    "#### LEARNING PHASE\n",
    "####\n",
    "\n",
    "# normalize each channel\n",
    "#all_skin /= all_skin.max(1)[:, None]\n",
    "#all_nonskin /= all_nonskin.max(1)[:, None]\n",
    "\n",
    "plt.title('RGB of Skin')\n",
    "plt.xlabel('Intensity')\n",
    "plt.ylabel('n')\n",
    "plt.xlim([0, 255])\n",
    "plt.bar(np.arange(256), all_skin[0], color='b', alpha=0.5, width=1.0)\n",
    "plt.bar(np.arange(256), all_skin[1], color='g', alpha=0.5, width=1.0)\n",
    "plt.bar(np.arange(256), all_skin[2], color='r', alpha=0.5, width=1.0)\n",
    "\n",
    "plt.figure()\n",
    "\n",
    "plt.title('RGB of Non-Skin')\n",
    "plt.xlabel('Intensity')\n",
    "plt.ylabel('n')\n",
    "plt.xlim([0, 255])\n",
    "plt.bar(np.arange(256), all_nonskin[0], color='b', alpha=0.5, width=1.0)\n",
    "plt.bar(np.arange(256), all_nonskin[1], color='g', alpha=0.5, width=1.0)\n",
    "plt.bar(np.arange(256), all_nonskin[2], color='r', alpha=0.5, width=1.0)"
   ]
  },
  {
   "cell_type": "code",
   "execution_count": 519,
   "metadata": {
    "collapsed": false
   },
   "outputs": [
    {
     "name": "stdout",
     "output_type": "stream",
     "text": [
      "Learning on 42 images..........................................done!\n",
      "TP: 0.590655940594 %\n",
      "FP: 0.409344059406 %\n",
      "TN: 0.998280502392 %\n",
      "FN: 0.00171949760766 %\n",
      "F1-Score: 0.741855125901\n"
     ]
    }
   ],
   "source": [
    "###\n",
    "### EVALUATION\n",
    "###\n",
    "\n",
    "NUM_SOIS = 3\n",
    "\n",
    "def learn(X, y):\n",
    "    global all_skin\n",
    "    global all_nonskin\n",
    "    # find r, g, and b skin pixels\n",
    "    y = y.astype(bool)\n",
    "    skin = X[y].T.reshape(-1, 3) # or (3, -1) ??????\n",
    "    all_skin[0] += np.bincount(skin[..., 0], minlength=256)\n",
    "    all_skin[1] += np.bincount(skin[..., 1], minlength=256)\n",
    "    all_skin[2] += np.bincount(skin[..., 2], minlength=256)\n",
    "    \n",
    "    # same with non-skin pixels\n",
    "    y = y.astype(bool)\n",
    "    nonskin = X[~y].T.reshape(-1, 3)\n",
    "    all_nonskin[0] += np.bincount(nonskin[..., 0], minlength=256)\n",
    "    all_nonskin[1] += np.bincount(nonskin[..., 1], minlength=256)\n",
    "    all_nonskin[2] += np.bincount(nonskin[..., 2], minlength=256)\n",
    "    \n",
    "def finish_learn():\n",
    "    \"\"\"Calculate mass values for the 6 criteria we got.\"\"\"\n",
    "    global all_skin\n",
    "    global all_nonskin\n",
    "    # Scale each channel to [0, 1].\n",
    "    all_skin /= all_skin.max(1)[:, None]\n",
    "    all_nonskin /= all_nonskin.max(1)[:, None]\n",
    "    \n",
    "    s_b, s_g, s_r = all_skin\n",
    "    ns_b, ns_g, ns_r = all_nonskin\n",
    "    raw_sois = np.empty([NUM_SOIS, 2, 256])\n",
    "    raw_sois = np.array([\n",
    "        np.vstack([s_r, ns_r]), # R\n",
    "        np.vstack([s_g, ns_g]), # G\n",
    "        np.vstack([s_b, ns_b]), # B\n",
    "        ])#np.vstack([np.abs(s_r - s_g), np.abs(ns_r - ns_g)]), # |R-G|\n",
    "        #np.vstack([np.abs(s_r - s_b), np.abs(ns_r - ns_b)]), # |R-B|\n",
    "      #np.vstack([s_r > s_g &, ns_r])]) # R>G and R>B (how?)\n",
    "    for i, nsnns in enumerate(raw_sois):\n",
    "        # number of skin pixels/ number of non-skin pixels\n",
    "        ns, nns = nsnns\n",
    "        # ns and nns are TP and FP (or, FN and TN), respectively.\n",
    "        mass = (ns - nns) / (ns + nns)\n",
    "        skin, noskin, theta = sois[i]\n",
    "        #sois[i, 0, :] = ? skin    where mass is positive: mass else: 0.\n",
    "        skin[mass > 0] = mass[mass > 0]\n",
    "        #sois[i, 1, :] = ? nonskin where mass is positive: 0    else: -mass.\n",
    "        noskin[mass < 0] = -mass[mass < 0]\n",
    "        #sois[i, 2, :] = ? theta   where mass is positive: mass else: -mass.\n",
    "        theta[mass > 0] = mass[mass > 0]\n",
    "        theta[mass < 0] = -mass[mass < 0]\n",
    "\n",
    "def classify(img):\n",
    "    b, g, r = cv2.split(img)\n",
    "    skin   = np.zeros((img.shape[0], img.shape[1], len(sois)))\n",
    "    noskin = np.zeros((img.shape[0], img.shape[1], len(sois)))\n",
    "    theta  = np.zeros((img.shape[0], img.shape[1], len(sois)))\n",
    "    vals = np.array([r, g, b])#, np.abs(r-g), np.abs(r-b)]) #last missing\n",
    "    \n",
    "    # Calculate mass values for all pixels for all SoIs\n",
    "    for i, val in enumerate(vals):\n",
    "        skin[..., i] += sois[i, 0, val]\n",
    "        noskin[..., i] += sois[i, 1, val]\n",
    "        theta[..., i] += 1 - sois[i, 2, val]\n",
    "    \n",
    "    m_skin = np.zeros(img.shape[0:2])\n",
    "    m_noskin = np.zeros(img.shape[0:2])\n",
    "    \n",
    "    combs = set(itertools.permutations([True, False] * len(sois), len(sois)))\n",
    "    # discard \"all thetas\" scenario\n",
    "    combs.discard(tuple([True] * len(sois)))\n",
    "    \n",
    "    # Combine mass functions with Dempster's Rule\n",
    "    for comb in combs:\n",
    "        skinval = 1\n",
    "        noskinval = 1\n",
    "        for i, is_theta  in enumerate(comb):\n",
    "            if is_theta:\n",
    "                skinval *= theta[..., i]\n",
    "                noskinval *= theta[..., i]\n",
    "            else:\n",
    "                skinval *= skin[..., i]\n",
    "                noskinval *= noskin[..., i]\n",
    "        m_skin += skinval\n",
    "        m_noskin += noskinval\n",
    "\n",
    "    return m_skin > m_noskin\n",
    "    clf = m_skin - m_noskin\n",
    "    #clf[clf < 0] = 0\n",
    "    # Normalize to [0, 255]\n",
    "    return (clf / (clf.max() / 127.5) + 127.5).astype(np.uint8) \n",
    "\n",
    "# These are histograms for the r, g, and b-values of skin and non-skin.\n",
    "all_skin = np.zeros([3, 256])\n",
    "all_nonskin = np.zeros([3, 256])\n",
    "# 5 (6) SoIs, 256 possible criterion-values,\n",
    "# 3 mass values for skin, noskin, theta\n",
    "sois = np.zeros([NUM_SOIS, 3, 256])\n",
    "nsnns = np.empty([NUM_SOIS, 2, 256])\n",
    "\n",
    "X_train, X_test, y_train, y_test = cross_validation.train_test_split(imgs, masks, test_size=1)\n",
    "\n",
    "c = 5\n",
    "print('Learning on', X_train.size, 'images', end='')\n",
    "for X, y in zip(X_train, y_train):\n",
    "    X = adjust_intensity(X, np.median(X[..., 2]) / 5)\n",
    "    learn(X, y)\n",
    "    print('.', end='')\n",
    "print('done!')\n",
    "\n",
    "finish_learn()\n",
    "\n",
    "tp = fp = tn = fn = 0.0\n",
    "for X, y in zip(X_test, y_test):\n",
    "    X = adjust_intensity(X, np.median(X[...,2]) / 5)\n",
    "    clf = classify(X)\n",
    "    \n",
    "    y2 = y[..., 0]\n",
    "    tp += np.count_nonzero(clf & y2)\n",
    "    fp += np.count_nonzero(clf & ~y2)\n",
    "    tn += np.count_nonzero(~clf & ~y2)\n",
    "    fn += np.count_nonzero(~clf & y2)\n",
    "    \n",
    "    # visualize\n",
    "    m = np.copy(y)\n",
    "    m[..., 2] = clf * 255\n",
    "    m[..., 1] /= 2\n",
    "    m[..., 0] = 0\n",
    "    cv2.imshow('Picture -- Truth -- Classification Result', np.hstack([X, m]))\n",
    "    \n",
    "    if cv2.waitKey() == ESCAPE_KEYCODE:\n",
    "        break\n",
    "\n",
    "cv2.destroyWindow('Picture -- Truth -- Classification Result')\n",
    "\n",
    "p = tp + fp\n",
    "n = tn + fn\n",
    "tp = tp / p\n",
    "fp = fp / p\n",
    "tn = tn / n\n",
    "fn = fn / n\n",
    "print('TP:', tp, '%')\n",
    "print('FP:', fp, '%')\n",
    "print('TN:', tn, '%')\n",
    "print('FN:', fn, '%')\n",
    "print('F1-Score:', (2 * tp) / (2 * tp + fn + fp))"
   ]
  },
  {
   "cell_type": "code",
   "execution_count": 501,
   "metadata": {
    "collapsed": false
   },
   "outputs": [],
   "source": [
    "%qtconsole"
   ]
  },
  {
   "cell_type": "code",
   "execution_count": 585,
   "metadata": {
    "collapsed": true
   },
   "outputs": [],
   "source": [
    "def hist(X, y):\n",
    "    # These are histograms for the r, g, and b-values of skin and non-skin.\n",
    "    global all_skin\n",
    "    global all_nonskin\n",
    "    global sois\n",
    "    global nsnns\n",
    "    \n",
    "    all_skin = np.zeros([3, 256])\n",
    "    all_nonskin = np.zeros([3, 256])\n",
    "    # 5 (6) SoIs, 256 possible criterion-values,\n",
    "    # 3 mass values for skin, noskin, theta\n",
    "    sois = np.zeros([NUM_SOIS, 3, 256])\n",
    "    nsnns = np.empty([NUM_SOIS, 2, 256])\n",
    "    \n",
    "    X = adjust_intensity(X, 10)\n",
    "    learn(X, y)\n",
    "    finish_learn()\n",
    "    \n",
    "    plt.subplot(1, 2, 1)\n",
    "    #f.set_size_inches(2, 6)\n",
    "    plt.title('RGB of Skin')\n",
    "    plt.xlabel('Intensity')\n",
    "    plt.ylabel('n')\n",
    "    plt.xlim([0, 255])\n",
    "    plt.bar(np.arange(256), all_skin[0], color='b', alpha=0.5, width=1.0)\n",
    "    plt.bar(np.arange(256), all_skin[1], color='g', alpha=0.5, width=1.0)\n",
    "    plt.bar(np.arange(256), all_skin[2], color='r', alpha=0.5, width=1.0)\n",
    "    \n",
    "    plt.subplot(1, 2, 2)\n",
    "    plt.title('RGB of Non-Skin')\n",
    "    plt.xlabel('Intensity')\n",
    "    plt.ylabel('n')\n",
    "    plt.xlim([0, 255])\n",
    "    plt.bar(np.arange(256), all_nonskin[0], color='b', alpha=0.5, width=1.0)\n",
    "    plt.bar(np.arange(256), all_nonskin[1], color='g', alpha=0.5, width=1.0)\n",
    "    plt.bar(np.arange(256), all_nonskin[2], color='r', alpha=0.5, width=1.0)"
   ]
  },
  {
   "cell_type": "code",
   "execution_count": 580,
   "metadata": {
    "collapsed": false
   },
   "outputs": [
    {
     "data": {
      "image/png": "[encoded data removed]",
      "text/plain": [
       "<matplotlib.figure.Figure at 0x70812f60>"
      ]
     },
     "metadata": {},
     "output_type": "display_data"
    }
   ],
   "source": [
    "hist(X, y)"
   ]
  },
  {
   "cell_type": "code",
   "execution_count": null,
   "metadata": {
    "collapsed": true
   },
   "outputs": [],
   "source": []
  }
 ],
 "metadata": {
  "kernelspec": {
   "display_name": "Python 2",
   "language": "python",
   "name": "python2"
  },
  "language_info": {
   "codemirror_mode": {
    "name": "ipython",
    "version": 2
   },
   "file_extension": ".py",
   "mimetype": "text/x-python",
   "name": "python",
   "nbconvert_exporter": "python",
   "pygments_lexer": "ipython2",
   "version": "2.7.11"
  }
 },
 "nbformat": 4,
 "nbformat_minor": 0
}
